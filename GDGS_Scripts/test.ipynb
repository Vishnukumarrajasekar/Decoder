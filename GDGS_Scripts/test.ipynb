{
 "cells": [
  {
   "cell_type": "code",
   "execution_count": 3,
   "metadata": {},
   "outputs": [],
   "source": [
    "from compas.geometry import Point, Vector, Line, Circle, Polyline, Polygon, Pointcloud, Plane, Frame, Translation, Scale, Rotation, intersection_line_line\n",
    "from compas_occ.geometry import OCCNurbsCurve\n",
    "import compas.geometry as cg\n",
    "\n",
    "from compas_plotters import Plotter\n",
    "\n",
    "\n",
    "from compas_view2.app import App\n",
    "\n",
    "import math"
   ]
  },
  {
   "cell_type": "code",
   "execution_count": 31,
   "metadata": {},
   "outputs": [],
   "source": [
    "def Move(input, vector):\n",
    "    T = Translation.from_vector(vector)\n",
    "    if isinstance(input, Point):\n",
    "        point1 = Point.copy(input)\n",
    "        point1.transform(T)\n",
    "        return point1\n",
    "    elif isinstance(input, Line):\n",
    "        line1 = Line.copy(input)\n",
    "        line1.transform(T)\n",
    "        return line1\n",
    "    elif isinstance(input, Vector):\n",
    "        vector1 = Vector.copy(input)\n",
    "        vector1.transformed(T)\n",
    "        return vector1\n",
    "    else:\n",
    "        return (type(input))"
   ]
  },
  {
   "cell_type": "code",
   "execution_count": 34,
   "metadata": {},
   "outputs": [
    {
     "name": "stdout",
     "output_type": "stream",
     "text": [
      "Vector(0.707, 0.707, 0.000)\n",
      "Vector(0.707, 0.707, 0.000)\n"
     ]
    }
   ],
   "source": [
    "line1 = Line(Point(0.000, 0.000, 0.000), Point(1.000, 1.000, 0))\n",
    "line2 = Line(Point(5.000, 1.000, 0), Point(0.000, 0.000, 0.000))\n",
    "\n",
    "lines = [line1, line2]\n",
    "origin = Point(0.000, 0.000, 0.000)\n",
    "\n",
    "view = App()\n",
    "\n",
    "vec = Vector.copy(line1.direction)\n",
    "\n",
    "moved = Move(vec, Vector(5.000, 1.000, 0))\n",
    "\n",
    "view.add(vec)\n",
    "view.add(moved)\n",
    "print (vec)\n",
    "print (moved)\n",
    "\n",
    "\"\"\" for line in lines:\n",
    "    if line.start == origin:\n",
    "        vec = Vector.copy(line.direction)\n",
    "    else:\n",
    "        vec = Vector.copy(line.direction)\n",
    "        vec *= -1\n",
    "    view.add(vec, position=origin, size=1)\n",
    " \"\"\"\n",
    "\"\"\"     plane = Plane(Point(0.000, 0.000, 0.000), [0, 0, 1])\n",
    "    circle = Circle(plane, 0.1)\n",
    "    circle.radius = circle.radius * 0.1\n",
    "    intersection = intersection_line_line(line, circle)\n",
    "    view.add(line) \"\"\"\n",
    "view.show()"
   ]
  }
 ],
 "metadata": {
  "kernelspec": {
   "display_name": "thesis-compasdev",
   "language": "python",
   "name": "python3"
  },
  "language_info": {
   "codemirror_mode": {
    "name": "ipython",
    "version": 3
   },
   "file_extension": ".py",
   "mimetype": "text/x-python",
   "name": "python",
   "nbconvert_exporter": "python",
   "pygments_lexer": "ipython3",
   "version": "3.8.18"
  },
  "orig_nbformat": 4
 },
 "nbformat": 4,
 "nbformat_minor": 2
}
