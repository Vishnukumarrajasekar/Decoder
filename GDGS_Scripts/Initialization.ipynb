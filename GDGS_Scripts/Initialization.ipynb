{
 "cells": [
  {
   "cell_type": "code",
   "execution_count": 1,
   "metadata": {},
   "outputs": [],
   "source": [
    "from compas.geometry import Point, Vector, Line, Circle, Polyline, Polygon, Pointcloud, Plane, Frame, Translation, Scale, Rotation, intersection_line_line\n",
    "from compas_occ.geometry import OCCNurbsCurve\n",
    "import compas.geometry as cg\n",
    "\n",
    "from compas_plotters import Plotter\n",
    "\n",
    "from compas_view2.app import App\n",
    "\n",
    "from math import radians\n",
    "\n",
    "import math"
   ]
  },
  {
   "cell_type": "code",
   "execution_count": 2,
   "metadata": {},
   "outputs": [],
   "source": [
    "import Assembly as assembly\n",
    "import Grammar as gr\n",
    "import Rules as r\n",
    "import GraphicStatics as gs\n"
   ]
  },
  {
   "attachments": {},
   "cell_type": "markdown",
   "metadata": {},
   "source": [
    "# Defs"
   ]
  },
  {
   "cell_type": "code",
   "execution_count": 3,
   "metadata": {},
   "outputs": [],
   "source": [
    "\n",
    "def ConstructNode(tail, head, type):\n",
    "    AppliedForce = Line(tail, head)\n",
    "    if type == 1: #Support Point\n",
    "        ThisNodeType = assembly.NodeType.Support\n",
    "        ThisForceType = assembly.ForceType.Reaction\n",
    "        \"\"\" Color = \"252, 223,33\" #yellow, for support reactions \"\"\"\n",
    "\n",
    "    if type == 2: #Load Point\n",
    "        ThisNodeType = assembly.NodeType.Support\n",
    "        ThisForceType = assembly.ForceType.Reaction\n",
    "        \"\"\" Color = \"0, 113, 189\" #blue, for applied loads \"\"\"\n",
    "\n",
    "    \n",
    "    ForceList=[]\n",
    "    force = assembly.Force(AppliedForce, ThisForceType, -1)\n",
    "    ForceList.append(force)\n",
    "\n",
    "    node = assembly.Node(head, ThisNodeType, ForceList)\n",
    "\n",
    "    node = gs.RearrangeForces(node)\n",
    "    node = gs.EquilibrateNode(node)\n",
    "    return node\n",
    "\n"
   ]
  },
  {
   "cell_type": "code",
   "execution_count": null,
   "metadata": {},
   "outputs": [],
   "source": [
    "\"\"\"  ForceType:\n",
    "        Pass = 0\n",
    "        Reaction = 1\n",
    "        Applied = 2\n",
    "        Temporary = 3\n",
    "        Member = 4 \"\"\"\n",
    "\n",
    "\"\"\"  NodeType:\n",
    "        Pass = 0\n",
    "        Support = 1\n",
    "        Load = 2\n",
    "        Float = 3\n",
    "        End = 4\n",
    "        Corner = 5\n",
    "        Tri = 6\n",
    "        Quad = 7 \"\"\""
   ]
  },
  {
   "attachments": {},
   "cell_type": "markdown",
   "metadata": {},
   "source": [
    "# Initials"
   ]
  },
  {
   "cell_type": "code",
   "execution_count": 6,
   "metadata": {},
   "outputs": [
    {
     "name": "stdout",
     "output_type": "stream",
     "text": [
      "<Assembly.Node object at 0x7fce59bd8f70>\n",
      "1\n",
      "1\n",
      "1\n",
      "1\n",
      "Line(Point(15.000, 22.000, 0.000), Point(15.000, 17.000, 0.000))\n",
      "********************NEW RULE APPLIED Rule 0: 'START' at picked node 3\n",
      "********************NEW RULE APPLIED Rule 6: 'System Close' at picked node 1\n",
      "********************NEW RULE APPLIED Rule 6: 'System Close' at picked node 1\n",
      "********************NEW RULE APPLIED Rule 6: 'System Close' at picked node 0\n",
      "********************NEW RULE APPLIED Rule 6: 'System Close' at picked node 1\n",
      "********************NEW RULE APPLIED Rule 6: 'System Close' at picked node 2\n",
      "********************NEW RULE APPLIED Rule 6: 'System Close' at picked node 1\n",
      "********************NEW RULE APPLIED Rule 6: 'System Close' at picked node 3\n",
      "********************NEW RULE APPLIED Rule 6: 'System Close' at picked node 0\n",
      "********************NEW RULE APPLIED Rule 6: 'System Close' at picked node 3\n",
      "********************NEW RULE APPLIED Rule 6: 'System Close' at picked node 2\n",
      "********************NEW RULE APPLIED Rule 6: 'System Close' at picked node 0\n",
      "********************NEW RULE APPLIED Rule 6: 'System Close' at picked node 1\n",
      "********************NEW RULE APPLIED Rule 6: 'System Close' at picked node 2\n"
     ]
    },
    {
     "ename": "TypeError",
     "evalue": "type object argument after * must be an iterable, not float",
     "output_type": "error",
     "traceback": [
      "\u001b[0;31m---------------------------------------------------------------------------\u001b[0m",
      "\u001b[0;31mTypeError\u001b[0m                                 Traceback (most recent call last)",
      "Cell \u001b[0;32mIn[6], line 59\u001b[0m\n\u001b[1;32m     57\u001b[0m g \u001b[39m=\u001b[39m gr\u001b[39m.\u001b[39mGrammar()\n\u001b[1;32m     58\u001b[0m b \u001b[39m=\u001b[39m gr\u001b[39m.\u001b[39mRandomComputation(g)\n\u001b[0;32m---> 59\u001b[0m a \u001b[39m=\u001b[39m b\u001b[39m.\u001b[39;49mGenerateRandomAssembly(StartShape)\n\u001b[1;32m     61\u001b[0m NUM \u001b[39m=\u001b[39m \u001b[39m4\u001b[39m\n\u001b[1;32m     62\u001b[0m bestNum \u001b[39m=\u001b[39m \u001b[39m5\u001b[39m\n",
      "File \u001b[0;32m~/Desktop/RL-Guider/GDGS_Scripts/Grammar.py:70\u001b[0m, in \u001b[0;36mRandomComputation.GenerateRandomAssembly\u001b[0;34m(self, currentshape)\u001b[0m\n\u001b[1;32m     68\u001b[0m \u001b[39mdef\u001b[39;00m \u001b[39mGenerateRandomAssembly\u001b[39m(\u001b[39mself\u001b[39m, currentshape):\n\u001b[1;32m     69\u001b[0m     \u001b[39mwhile\u001b[39;00m currentshape\u001b[39m.\u001b[39mMyState \u001b[39m!=\u001b[39m rules\u001b[39m.\u001b[39mState\u001b[39m.\u001b[39mEnd: \u001b[39m#if not end state, proceed to ApplyRandomRule\u001b[39;00m\n\u001b[0;32m---> 70\u001b[0m         currentshape \u001b[39m=\u001b[39m \u001b[39mself\u001b[39;49m\u001b[39m.\u001b[39;49mApplyRandomRule(currentshape)\n\u001b[1;32m     72\u001b[0m     \u001b[39m#currentshape.Score = currentshape.GetScore()\u001b[39;00m\n\u001b[1;32m     73\u001b[0m     \u001b[39m#currentshape.Length = currentshape.GetLength()\u001b[39;00m\n\u001b[1;32m     74\u001b[0m     \u001b[39mreturn\u001b[39;00m currentshape\n",
      "File \u001b[0;32m~/Desktop/RL-Guider/GDGS_Scripts/Grammar.py:89\u001b[0m, in \u001b[0;36mRandomComputation.ApplyRandomRule\u001b[0;34m(self, currentshape)\u001b[0m\n\u001b[1;32m     87\u001b[0m rule \u001b[39m=\u001b[39m rules[index]\n\u001b[1;32m     88\u001b[0m params \u001b[39m=\u001b[39m \u001b[39mself\u001b[39m\u001b[39m.\u001b[39mGenerateRandomParams(rule)\n\u001b[0;32m---> 89\u001b[0m currentshape \u001b[39m=\u001b[39m rule\u001b[39m.\u001b[39;49mApply(currentshape, params, node)\n\u001b[1;32m     90\u001b[0m \u001b[39mprint\u001b[39m (\u001b[39m\"\u001b[39m\u001b[39m********************NEW RULE APPLIED\u001b[39m\u001b[39m\"\u001b[39m, rule\u001b[39m.\u001b[39mName,  \u001b[39m\"\u001b[39m\u001b[39mat picked node\u001b[39m\u001b[39m\"\u001b[39m, gs\u001b[39m.\u001b[39mGetNodeIndex(node, currentshape))\n\u001b[1;32m     91\u001b[0m \u001b[39mreturn\u001b[39;00m currentshape\n",
      "File \u001b[0;32m~/Desktop/RL-Guider/GDGS_Scripts/Rules.py:502\u001b[0m, in \u001b[0;36mRule3.Apply\u001b[0;34m(self, currentshape, params, node)\u001b[0m\n\u001b[1;32m    498\u001b[0m TempForceEnd \u001b[39m=\u001b[39m TempForce\u001b[39m.\u001b[39mLine\u001b[39m.\u001b[39mend\n\u001b[1;32m    501\u001b[0m \u001b[39m# if TempForce.Direction == -1: #if temp force is compression\u001b[39;00m\n\u001b[0;32m--> 502\u001b[0m intersection \u001b[39m=\u001b[39m gs\u001b[39m.\u001b[39;49mBiDirVectorIntersection(TempForceStart, vector1, TempForceEnd, vector2)\n\u001b[1;32m    504\u001b[0m \u001b[39m\u001b[39m\u001b[39m\"\"\" forceline1 = gh.Line(TempForceStart, intersection)\u001b[39;00m\n\u001b[1;32m    505\u001b[0m \u001b[39mforceline1 = gh.Move(forceline1, gh.Vector2Pt(intersection, node.Coordinate)[0])[0] \"\"\"\u001b[39;00m\n\u001b[1;32m    506\u001b[0m forceline1 \u001b[39m=\u001b[39m Line(TempForceStart, intersection)\n",
      "File \u001b[0;32m~/Desktop/RL-Guider/GDGS_Scripts/GraphicStatics.py:341\u001b[0m, in \u001b[0;36mBiDirVectorIntersection\u001b[0;34m(point1, vector1, point2, vector2)\u001b[0m\n\u001b[1;32m    339\u001b[0m move1 \u001b[39m=\u001b[39m Amplitude(vector1, \u001b[39m1000\u001b[39m)\n\u001b[1;32m    340\u001b[0m point1 \u001b[39m=\u001b[39m Move(point1, move1)[\u001b[39m0\u001b[39m]\n\u001b[0;32m--> 341\u001b[0m ray1 \u001b[39m=\u001b[39m LineSDL(point1, vector1, \u001b[39m-\u001b[39;49m\u001b[39m2000\u001b[39;49m)\n\u001b[1;32m    343\u001b[0m move2 \u001b[39m=\u001b[39m Amplitude(vector2, \u001b[39m1000\u001b[39m)\n\u001b[1;32m    344\u001b[0m point2 \u001b[39m=\u001b[39m Move(point2, move2)[\u001b[39m0\u001b[39m]\n",
      "File \u001b[0;32m~/Desktop/RL-Guider/GDGS_Scripts/GraphicStatics.py:89\u001b[0m, in \u001b[0;36mLineSDL\u001b[0;34m(point, vector, length)\u001b[0m\n\u001b[1;32m     87\u001b[0m amp \u001b[39m=\u001b[39m Amplitude(vector,length)\n\u001b[1;32m     88\u001b[0m moved_point \u001b[39m=\u001b[39m Move(point, amp)\n\u001b[0;32m---> 89\u001b[0m line \u001b[39m=\u001b[39m Line(point, moved_point)   \n\u001b[1;32m     90\u001b[0m \u001b[39mreturn\u001b[39;00m line\n",
      "File \u001b[0;32m~/anaconda3/envs/thesis-compasdev/lib/python3.8/site-packages/compas/geometry/primitives/line.py:56\u001b[0m, in \u001b[0;36mLine.__init__\u001b[0;34m(self, p1, p2, **kwargs)\u001b[0m\n\u001b[1;32m     54\u001b[0m \u001b[39mself\u001b[39m\u001b[39m.\u001b[39m_start \u001b[39m=\u001b[39m \u001b[39mNone\u001b[39;00m\n\u001b[1;32m     55\u001b[0m \u001b[39mself\u001b[39m\u001b[39m.\u001b[39m_end \u001b[39m=\u001b[39m \u001b[39mNone\u001b[39;00m\n\u001b[0;32m---> 56\u001b[0m \u001b[39mself\u001b[39;49m\u001b[39m.\u001b[39;49mstart \u001b[39m=\u001b[39m p1\n\u001b[1;32m     57\u001b[0m \u001b[39mself\u001b[39m\u001b[39m.\u001b[39mend \u001b[39m=\u001b[39m p2\n",
      "File \u001b[0;32m~/anaconda3/envs/thesis-compasdev/lib/python3.8/site-packages/compas/geometry/primitives/line.py:113\u001b[0m, in \u001b[0;36mLine.start\u001b[0;34m(self, point)\u001b[0m\n\u001b[1;32m    111\u001b[0m \u001b[39m@start\u001b[39m\u001b[39m.\u001b[39msetter\n\u001b[1;32m    112\u001b[0m \u001b[39mdef\u001b[39;00m \u001b[39mstart\u001b[39m(\u001b[39mself\u001b[39m, point):\n\u001b[0;32m--> 113\u001b[0m     \u001b[39mself\u001b[39m\u001b[39m.\u001b[39m_start \u001b[39m=\u001b[39m Point(\u001b[39m*\u001b[39;49mpoint)\n",
      "\u001b[0;31mTypeError\u001b[0m: type object argument after * must be an iterable, not float"
     ]
    }
   ],
   "source": [
    "#Loads\n",
    "\n",
    "l1_tail = Point(15.0,22.0,0.0)\n",
    "l1_head = Point(15.0,17.0,0.0)\n",
    "l1_type = 2 \n",
    "ld_node1 = ConstructNode(l1_tail,l1_head, l1_type)\n",
    "\n",
    "print (ld_node1)\n",
    "\n",
    "l2_tail = Point(30.0,22.0,0.0)\n",
    "l2_head = Point(30.0,17.0,0.0)\n",
    "l2_type = 2 \n",
    "ld_node2 = ConstructNode(l2_tail,l2_head, l2_type)\n",
    "\n",
    "# Supports\n",
    "\n",
    "s1_tail = Point(-7.0,-3.0,0.0)\n",
    "s1_head = Point(0.0,2.0,0.0)\n",
    "s1_type = 1 \n",
    "st_node1 = ConstructNode(s1_tail,s1_head, s1_type)\n",
    "\n",
    "s2_tail = Point(52.0,-3.0,0.0)\n",
    "s2_head = Point(45.0,2.0,0.0)\n",
    "s2_type = 1\n",
    "st_node2 = ConstructNode(s2_tail,s2_head, s2_type)\n",
    "\n",
    "loads = [ld_node1,ld_node2]\n",
    "supports = [st_node1,st_node2]\n",
    "\n",
    "# Boundary \n",
    "\n",
    "points = [Point(0, 2, 0), Point(45, 2, 0), Point(45, 17, 0), Point(0, 17, 0), Point(0, 2, 0)]\n",
    "boundary = Polyline(points)\n",
    "\n",
    "\n",
    "\n",
    "################################################################################\n",
    "#  COMPILE NODES\n",
    "\n",
    "node_list = []\n",
    "node_list.extend(loads)\n",
    "node_list.extend(supports)\n",
    "\n",
    "################################################################################\n",
    "#  CREATE ASSEMBLY INSTANCE\n",
    "\n",
    "StartShape = assembly.Assembly(node_list, [], boundary)\n",
    "\n",
    "for node in StartShape.Nodes:\n",
    "    \"\"\" print (type(node)) \"\"\"\n",
    "    print (node.Type)\n",
    "\n",
    "print (StartShape.Nodes[0].Forces[0].Line)\n",
    "\n",
    "################################################################################\n",
    "\n",
    "g = gr.Grammar()\n",
    "b = gr.RandomComputation(g)\n",
    "a = b.GenerateRandomAssembly(StartShape)\n",
    "\n",
    "NUM = 4\n",
    "bestNum = 5\n",
    "bestDesigns = [] \n",
    "\n",
    "\n",
    "\"\"\" rint (StartShape.MyState)\n",
    "print (len(StartShape.Nodes)) \"\"\"\n",
    "\n",
    "\"\"\" a = Generate(StartShape) \n",
    "\n",
    " view = App()\n",
    "for l in loads:\n",
    "    view.add(l.Coordinate)\n",
    "\n",
    "view.show()\"\"\""
   ]
  }
 ],
 "metadata": {
  "kernelspec": {
   "display_name": "thesis-compasdev",
   "language": "python",
   "name": "python3"
  },
  "language_info": {
   "codemirror_mode": {
    "name": "ipython",
    "version": 3
   },
   "file_extension": ".py",
   "mimetype": "text/x-python",
   "name": "python",
   "nbconvert_exporter": "python",
   "pygments_lexer": "ipython3",
   "version": "3.8.18"
  },
  "orig_nbformat": 4
 },
 "nbformat": 4,
 "nbformat_minor": 2
}
