{
 "cells": [
  {
   "cell_type": "code",
   "execution_count": 1,
   "metadata": {},
   "outputs": [],
   "source": [
    "from compas.geometry import Point, Vector, Line, Circle, Polyline, Polygon, Pointcloud, Plane, Frame, Translation, Scale, Rotation, intersection_line_line\n",
    "from compas_occ.geometry import OCCNurbsCurve\n",
    "import compas.geometry as cg\n",
    "\n",
    "from compas_plotters import Plotter\n",
    "\n",
    "from compas_view2.app import App\n",
    "\n",
    "from math import radians\n",
    "\n",
    "import math"
   ]
  },
  {
   "cell_type": "code",
   "execution_count": 2,
   "metadata": {},
   "outputs": [],
   "source": [
    "import Assembly as assembly\n",
    "import Grammar as gr\n",
    "import Rules as r\n",
    "import GraphicStatics as gs\n"
   ]
  },
  {
   "attachments": {},
   "cell_type": "markdown",
   "metadata": {},
   "source": [
    "# Defs"
   ]
  },
  {
   "cell_type": "code",
   "execution_count": 3,
   "metadata": {},
   "outputs": [],
   "source": [
    "\n",
    "def ConstructNode(tail, head, type):\n",
    "    AppliedForce = Line(tail, head)\n",
    "    if type == 1: #Support Point\n",
    "        ThisNodeType = assembly.NodeType.Support\n",
    "        ThisForceType = assembly.ForceType.Reaction\n",
    "        \"\"\" Color = \"252, 223,33\" #yellow, for support reactions \"\"\"\n",
    "\n",
    "    if type == 2: #Load Point\n",
    "        ThisNodeType = assembly.NodeType.Support\n",
    "        ThisForceType = assembly.ForceType.Reaction\n",
    "        \"\"\" Color = \"0, 113, 189\" #blue, for applied loads \"\"\"\n",
    "\n",
    "    \n",
    "    ForceList=[]\n",
    "    force = assembly.Force(AppliedForce, ThisForceType, -1)\n",
    "    ForceList.append(force)\n",
    "\n",
    "    node = assembly.Node(head, ThisNodeType, ForceList)\n",
    "\n",
    "    node = gs.RearrangeForces(node)\n",
    "    node = gs.EquilibrateNode(node)\n",
    "    return node\n",
    "\n"
   ]
  },
  {
   "cell_type": "code",
   "execution_count": null,
   "metadata": {},
   "outputs": [],
   "source": [
    "\"\"\"  ForceType:\n",
    "        Pass = 0\n",
    "        Reaction = 1\n",
    "        Applied = 2\n",
    "        Temporary = 3\n",
    "        Member = 4 \"\"\"\n",
    "\n",
    "\"\"\"  NodeType:\n",
    "        Pass = 0\n",
    "        Support = 1\n",
    "        Load = 2\n",
    "        Float = 3\n",
    "        End = 4\n",
    "        Corner = 5\n",
    "        Tri = 6\n",
    "        Quad = 7 \"\"\"\n",
    "\n",
    "\"\"\" NodeState:\n",
    "    Pass = 0\n",
    "    Go = 1 \"\"\""
   ]
  },
  {
   "attachments": {},
   "cell_type": "markdown",
   "metadata": {},
   "source": [
    "# Initials"
   ]
  },
  {
   "cell_type": "code",
   "execution_count": 13,
   "metadata": {},
   "outputs": [
    {
     "name": "stdout",
     "output_type": "stream",
     "text": [
      "<Assembly.Node object at 0x7fc4fceb2f70>\n",
      "1\n",
      "1\n",
      "1\n",
      "1\n",
      "[<Assembly.Node object at 0x7fc4fceb2f70>, <Assembly.Node object at 0x7fc4fceb25b0>, <Assembly.Node object at 0x7fc4fcdea490>, <Assembly.Node object at 0x7fc4fcdeab50>]\n",
      "********************NEW RULE APPLIED Rule 0: 'START' at picked node 2\n",
      "********************NEW RULE APPLIED Rule 6: 'System Close' at picked node 0\n",
      "********************NEW RULE APPLIED Rule 6: 'System Close' at picked node 0\n",
      "********************NEW RULE APPLIED Rule 6: 'System Close' at picked node 2\n",
      "********************NEW RULE APPLIED Rule 6: 'System Close' at picked node 3\n",
      "********************NEW RULE APPLIED Rule 6: 'System Close' at picked node 0\n"
     ]
    },
    {
     "ename": "AttributeError",
     "evalue": "'list' object has no attribute 'distance_to_point'",
     "output_type": "error",
     "traceback": [
      "\u001b[0;31m---------------------------------------------------------------------------\u001b[0m",
      "\u001b[0;31mAttributeError\u001b[0m                            Traceback (most recent call last)",
      "\u001b[1;32m/Users/vishnu/Desktop/RL-Guider/GDGS_Scripts/Initialization.ipynb Cell 7\u001b[0m line \u001b[0;36m5\n\u001b[1;32m     <a href='vscode-notebook-cell:/Users/vishnu/Desktop/RL-Guider/GDGS_Scripts/Initialization.ipynb#W6sZmlsZQ%3D%3D?line=56'>57</a>\u001b[0m g \u001b[39m=\u001b[39m gr\u001b[39m.\u001b[39mGrammar()\n\u001b[1;32m     <a href='vscode-notebook-cell:/Users/vishnu/Desktop/RL-Guider/GDGS_Scripts/Initialization.ipynb#W6sZmlsZQ%3D%3D?line=57'>58</a>\u001b[0m b \u001b[39m=\u001b[39m gr\u001b[39m.\u001b[39mRandomComputation(g)\n\u001b[0;32m---> <a href='vscode-notebook-cell:/Users/vishnu/Desktop/RL-Guider/GDGS_Scripts/Initialization.ipynb#W6sZmlsZQ%3D%3D?line=58'>59</a>\u001b[0m a \u001b[39m=\u001b[39m b\u001b[39m.\u001b[39;49mGenerateRandomAssembly(StartShape)\n\u001b[1;32m     <a href='vscode-notebook-cell:/Users/vishnu/Desktop/RL-Guider/GDGS_Scripts/Initialization.ipynb#W6sZmlsZQ%3D%3D?line=60'>61</a>\u001b[0m NUM \u001b[39m=\u001b[39m \u001b[39m4\u001b[39m\n\u001b[1;32m     <a href='vscode-notebook-cell:/Users/vishnu/Desktop/RL-Guider/GDGS_Scripts/Initialization.ipynb#W6sZmlsZQ%3D%3D?line=61'>62</a>\u001b[0m bestNum \u001b[39m=\u001b[39m \u001b[39m5\u001b[39m\n",
      "File \u001b[0;32m~/Desktop/RL-Guider/GDGS_Scripts/Grammar.py:70\u001b[0m, in \u001b[0;36mRandomComputation.GenerateRandomAssembly\u001b[0;34m(self, currentshape)\u001b[0m\n\u001b[1;32m     68\u001b[0m \u001b[39mdef\u001b[39;00m \u001b[39mGenerateRandomAssembly\u001b[39m(\u001b[39mself\u001b[39m, currentshape):\n\u001b[1;32m     69\u001b[0m     \u001b[39mwhile\u001b[39;00m currentshape\u001b[39m.\u001b[39mMyState \u001b[39m!=\u001b[39m rules\u001b[39m.\u001b[39mState\u001b[39m.\u001b[39mEnd: \u001b[39m#if not end state, proceed to ApplyRandomRule\u001b[39;00m\n\u001b[0;32m---> 70\u001b[0m         currentshape \u001b[39m=\u001b[39m \u001b[39mself\u001b[39;49m\u001b[39m.\u001b[39;49mApplyRandomRule(currentshape)\n\u001b[1;32m     72\u001b[0m     \u001b[39m#currentshape.Score = currentshape.GetScore()\u001b[39;00m\n\u001b[1;32m     73\u001b[0m     \u001b[39m#currentshape.Length = currentshape.GetLength()\u001b[39;00m\n\u001b[1;32m     74\u001b[0m     \u001b[39mreturn\u001b[39;00m currentshape\n",
      "File \u001b[0;32m~/Desktop/RL-Guider/GDGS_Scripts/Grammar.py:89\u001b[0m, in \u001b[0;36mRandomComputation.ApplyRandomRule\u001b[0;34m(self, currentshape)\u001b[0m\n\u001b[1;32m     87\u001b[0m rule \u001b[39m=\u001b[39m rules[index]\n\u001b[1;32m     88\u001b[0m params \u001b[39m=\u001b[39m \u001b[39mself\u001b[39m\u001b[39m.\u001b[39mGenerateRandomParams(rule)\n\u001b[0;32m---> 89\u001b[0m currentshape \u001b[39m=\u001b[39m rule\u001b[39m.\u001b[39;49mApply(currentshape, params, node)\n\u001b[1;32m     90\u001b[0m \u001b[39mprint\u001b[39m (\u001b[39m\"\u001b[39m\u001b[39m********************NEW RULE APPLIED\u001b[39m\u001b[39m\"\u001b[39m, rule\u001b[39m.\u001b[39mName,  \u001b[39m\"\u001b[39m\u001b[39mat picked node\u001b[39m\u001b[39m\"\u001b[39m, gs\u001b[39m.\u001b[39mGetNodeIndex(node, currentshape))\n\u001b[1;32m     91\u001b[0m \u001b[39mreturn\u001b[39;00m currentshape\n",
      "File \u001b[0;32m~/Desktop/RL-Guider/GDGS_Scripts/Rules.py:717\u001b[0m, in \u001b[0;36mRule5.Apply\u001b[0;34m(self, currentshape, params, node1)\u001b[0m\n\u001b[1;32m    713\u001b[0m \u001b[39mdef\u001b[39;00m \u001b[39mApply\u001b[39m(\u001b[39mself\u001b[39m, currentshape, params, node1):\n\u001b[1;32m    714\u001b[0m     \n\u001b[1;32m    715\u001b[0m     \n\u001b[1;32m    716\u001b[0m     \u001b[39m# find closest node and closest projection \u001b[39;00m\n\u001b[0;32m--> 717\u001b[0m     closestprojection \u001b[39m=\u001b[39m gs\u001b[39m.\u001b[39;49mFindClosestLink (node1, currentshape)\n\u001b[1;32m    718\u001b[0m     node2 \u001b[39m=\u001b[39m closestprojection[\u001b[39m0\u001b[39m] \u001b[39m# closest node \u001b[39;00m\n\u001b[1;32m    720\u001b[0m     \u001b[39mprint\u001b[39m (\u001b[39m\"\u001b[39m\u001b[39mnode1\u001b[39m\u001b[39m\"\u001b[39m, gs\u001b[39m.\u001b[39mGetNodeIndex(node1, currentshape))\n",
      "File \u001b[0;32m~/Desktop/RL-Guider/GDGS_Scripts/GraphicStatics.py:779\u001b[0m, in \u001b[0;36mFindClosestLink\u001b[0;34m(node, assembly)\u001b[0m\n\u001b[1;32m    776\u001b[0m     projections\u001b[39m.\u001b[39mappend(point)\n\u001b[1;32m    778\u001b[0m \u001b[39m\u001b[39m\u001b[39m\"\"\" closestprojection = gh.ClosestPoints(node.Coordinate, projections, 6) \"\"\"\u001b[39;00m\n\u001b[0;32m--> 779\u001b[0m closestprojection \u001b[39m=\u001b[39m ClosestPoints(node\u001b[39m.\u001b[39;49mCoordinate, projections, \u001b[39m6\u001b[39;49m)\n\u001b[1;32m    781\u001b[0m \u001b[39mif\u001b[39;00m closestprojection[\u001b[39m1\u001b[39m] \u001b[39m==\u001b[39m \u001b[39mNone\u001b[39;00m:\n\u001b[1;32m    782\u001b[0m     \u001b[39mreturn\u001b[39;00m (\u001b[39mNone\u001b[39;00m, \u001b[39mNone\u001b[39;00m, \u001b[39mNone\u001b[39;00m)\n",
      "File \u001b[0;32m~/Desktop/RL-Guider/GDGS_Scripts/GraphicStatics.py:112\u001b[0m, in \u001b[0;36mClosestPoints\u001b[0;34m(point, points, count)\u001b[0m\n\u001b[1;32m    110\u001b[0m \u001b[39mdef\u001b[39;00m \u001b[39mClosestPoints\u001b[39m (point, points, count\u001b[39m=\u001b[39m\u001b[39mNone\u001b[39;00m):\n\u001b[0;32m--> 112\u001b[0m     sorted_points \u001b[39m=\u001b[39m \u001b[39msorted\u001b[39;49m(points, key\u001b[39m=\u001b[39;49m\u001b[39mlambda\u001b[39;49;00m p: (p\u001b[39m.\u001b[39;49mdistance_to_point(point)))\n\u001b[1;32m    114\u001b[0m     sorted_indices \u001b[39m=\u001b[39m [points\u001b[39m.\u001b[39mindex(p) \u001b[39mfor\u001b[39;00m p \u001b[39min\u001b[39;00m sorted_points]\n\u001b[1;32m    116\u001b[0m     \u001b[39mif\u001b[39;00m count \u001b[39mis\u001b[39;00m \u001b[39mNone\u001b[39;00m:\n\u001b[1;32m    117\u001b[0m         \u001b[39m# If 'count' is not specified, return all points (no limit)\u001b[39;00m\n",
      "File \u001b[0;32m~/Desktop/RL-Guider/GDGS_Scripts/GraphicStatics.py:112\u001b[0m, in \u001b[0;36mClosestPoints.<locals>.<lambda>\u001b[0;34m(p)\u001b[0m\n\u001b[1;32m    110\u001b[0m \u001b[39mdef\u001b[39;00m \u001b[39mClosestPoints\u001b[39m (point, points, count\u001b[39m=\u001b[39m\u001b[39mNone\u001b[39;00m):\n\u001b[0;32m--> 112\u001b[0m     sorted_points \u001b[39m=\u001b[39m \u001b[39msorted\u001b[39m(points, key\u001b[39m=\u001b[39m\u001b[39mlambda\u001b[39;00m p: (p\u001b[39m.\u001b[39;49mdistance_to_point(point)))\n\u001b[1;32m    114\u001b[0m     sorted_indices \u001b[39m=\u001b[39m [points\u001b[39m.\u001b[39mindex(p) \u001b[39mfor\u001b[39;00m p \u001b[39min\u001b[39;00m sorted_points]\n\u001b[1;32m    116\u001b[0m     \u001b[39mif\u001b[39;00m count \u001b[39mis\u001b[39;00m \u001b[39mNone\u001b[39;00m:\n\u001b[1;32m    117\u001b[0m         \u001b[39m# If 'count' is not specified, return all points (no limit)\u001b[39;00m\n",
      "\u001b[0;31mAttributeError\u001b[0m: 'list' object has no attribute 'distance_to_point'"
     ]
    }
   ],
   "source": [
    "#Loads\n",
    "\n",
    "l1_tail = Point(15.0,22.0,0.0)\n",
    "l1_head = Point(15.0,17.0,0.0)\n",
    "l1_type = 2 \n",
    "ld_node1 = ConstructNode(l1_tail,l1_head, l1_type)\n",
    "\n",
    "print (ld_node1)\n",
    "\n",
    "l2_tail = Point(30.0,22.0,0.0)\n",
    "l2_head = Point(30.0,17.0,0.0)\n",
    "l2_type = 2 \n",
    "ld_node2 = ConstructNode(l2_tail,l2_head, l2_type)\n",
    "\n",
    "# Supports\n",
    "\n",
    "s1_tail = Point(-7.0,-3.0,0.0)\n",
    "s1_head = Point(0.0,2.0,0.0)\n",
    "s1_type = 1 \n",
    "st_node1 = ConstructNode(s1_tail,s1_head, s1_type)\n",
    "\n",
    "s2_tail = Point(52.0,-3.0,0.0)\n",
    "s2_head = Point(45.0,2.0,0.0)\n",
    "s2_type = 1\n",
    "st_node2 = ConstructNode(s2_tail,s2_head, s2_type)\n",
    "\n",
    "loads = [ld_node1,ld_node2]\n",
    "supports = [st_node1,st_node2]\n",
    "\n",
    "# Boundary \n",
    "\n",
    "points = [Point(0, 2, 0), Point(45, 2, 0), Point(45, 17, 0), Point(0, 17, 0), Point(0, 2, 0)]\n",
    "boundary = Polyline(points)\n",
    "\n",
    "\n",
    "\n",
    "################################################################################\n",
    "#  COMPILE NODES\n",
    "\n",
    "node_list = []\n",
    "node_list.extend(loads)\n",
    "node_list.extend(supports)\n",
    "\n",
    "################################################################################\n",
    "#  CREATE ASSEMBLY INSTANCE\n",
    "\n",
    "StartShape = assembly.Assembly(node_list, [], boundary)\n",
    "\n",
    "for node in StartShape.Nodes:\n",
    "    \"\"\" print (type(node)) \"\"\"\n",
    "    print (node.Type)\n",
    "\n",
    "print (StartShape.Nodes)\n",
    "\n",
    "################################################################################\n",
    "\n",
    "g = gr.Grammar()\n",
    "b = gr.RandomComputation(g)\n",
    "a = b.GenerateRandomAssembly(StartShape)\n",
    "\n",
    "NUM = 4\n",
    "bestNum = 5\n",
    "bestDesigns = [] \n",
    "\n",
    "\n",
    "\"\"\" rint (StartShape.MyState)\n",
    "print (len(StartShape.Nodes)) \"\"\"\n",
    "\n",
    "\"\"\" a = Generate(StartShape) \n",
    "\n",
    " view = App()\n",
    "for l in loads:\n",
    "    view.add(l.Coordinate)\n",
    "\n",
    "view.show()\"\"\""
   ]
  }
 ],
 "metadata": {
  "kernelspec": {
   "display_name": "thesis-compasdev",
   "language": "python",
   "name": "python3"
  },
  "language_info": {
   "codemirror_mode": {
    "name": "ipython",
    "version": 3
   },
   "file_extension": ".py",
   "mimetype": "text/x-python",
   "name": "python",
   "nbconvert_exporter": "python",
   "pygments_lexer": "ipython3",
   "version": "3.8.18"
  },
  "orig_nbformat": 4
 },
 "nbformat": 4,
 "nbformat_minor": 2
}
