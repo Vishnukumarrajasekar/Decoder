{
 "cells": [
  {
   "cell_type": "code",
   "execution_count": 6,
   "metadata": {},
   "outputs": [
    {
     "data": {
      "text/plain": [
       "' %run /Users/vishnu/Desktop/thesis_compas/GDGS_Compas_Imports/CustomFunctions.ipynb '"
      ]
     },
     "execution_count": 6,
     "metadata": {},
     "output_type": "execute_result"
    }
   ],
   "source": [
    "import importnb\n",
    "with importnb.imports(\"ipynb\"):\n",
    "    import Assembly as assembly\n",
    "    import GraphicStatics as gs\n",
    "    import Grammar as gr\n",
    "\n",
    "# Run Assembly\n",
    "%run /Users/vishnu/Desktop/thesis_compas/GDGS_Compas_Imports/Assembly.ipynb\n",
    "\n",
    "# Run GraphicStatics\n",
    "%run /Users/vishnu/Desktop/thesis_compas/GDGS_Compas_Imports/GraphicStatics.ipynb\n",
    "\n",
    "\"\"\" # Run CustomFunctions\n",
    "%run /Users/vishnu/Desktop/thesis_compas/GDGS_Compas_Imports/CustomFunctions.ipynb \"\"\""
   ]
  },
  {
   "attachments": {},
   "cell_type": "markdown",
   "metadata": {},
   "source": [
    "# Defs"
   ]
  },
  {
   "cell_type": "code",
   "execution_count": 9,
   "metadata": {},
   "outputs": [],
   "source": [
    "\n",
    "def ConstructNode(tail, head, type):\n",
    "    AppliedForce = Line(tail, head)\n",
    "    if type == 1: #Support Point\n",
    "        ThisNodeType = assembly.NodeType.Support\n",
    "        ThisForceType = assembly.ForceType.Reaction\n",
    "        \"\"\" Color = \"252, 223,33\" #yellow, for support reactions \"\"\"\n",
    "\n",
    "    if type == 2: #Load Point\n",
    "        ThisNodeType = assembly.NodeType.Support\n",
    "        ThisForceType = assembly.ForceType.Reaction\n",
    "        \"\"\" Color = \"0, 113, 189\" #blue, for applied loads \"\"\"\n",
    "\n",
    "    \n",
    "    ForceList=[]\n",
    "    force = assembly.Force(AppliedForce, ThisForceType, -1)\n",
    "    ForceList.append(force)\n",
    "\n",
    "    node = assembly.Node(head, ThisNodeType, ForceList)\n",
    "\n",
    "    node = gs.RearrangeForces(node)\n",
    "    node = gs.EquilibrateNode(node)\n",
    "    return node, AppliedForce\n",
    "\n"
   ]
  },
  {
   "attachments": {},
   "cell_type": "markdown",
   "metadata": {},
   "source": [
    "# Initials"
   ]
  },
  {
   "cell_type": "code",
   "execution_count": 10,
   "metadata": {},
   "outputs": [
    {
     "ename": "AttributeError",
     "evalue": "module 'Assembly' has no attribute 'NodeType'",
     "output_type": "error",
     "traceback": [
      "\u001b[0;31m---------------------------------------------------------------------------\u001b[0m",
      "\u001b[0;31mAttributeError\u001b[0m                            Traceback (most recent call last)",
      "Cell \u001b[0;32mIn[10], line 14\u001b[0m\n\u001b[1;32m     12\u001b[0m l1_head \u001b[39m=\u001b[39m (\u001b[39m15.0\u001b[39m,\u001b[39m17.0\u001b[39m,\u001b[39m0.0\u001b[39m)\n\u001b[1;32m     13\u001b[0m l1_type \u001b[39m=\u001b[39m \u001b[39m2\u001b[39m \n\u001b[0;32m---> 14\u001b[0m ld_node1 \u001b[39m=\u001b[39m ConstructNode(l1_tail,l1_head, l1_type)\n\u001b[1;32m     16\u001b[0m \u001b[39mprint\u001b[39m (ld_node1\u001b[39m.\u001b[39mCoordinate)\n\u001b[1;32m     18\u001b[0m l2_tail \u001b[39m=\u001b[39m (\u001b[39m30.0\u001b[39m,\u001b[39m22.0\u001b[39m,\u001b[39m0.0\u001b[39m)\n",
      "Cell \u001b[0;32mIn[9], line 9\u001b[0m, in \u001b[0;36mConstructNode\u001b[0;34m(tail, head, type)\u001b[0m\n\u001b[1;32m      6\u001b[0m \u001b[39m    \u001b[39m\u001b[39m\"\"\" Color = \"252, 223,33\" #yellow, for support reactions \"\"\"\u001b[39;00m\n\u001b[1;32m      8\u001b[0m \u001b[39mif\u001b[39;00m \u001b[39mtype\u001b[39m \u001b[39m==\u001b[39m \u001b[39m2\u001b[39m: \u001b[39m#Load Point\u001b[39;00m\n\u001b[0;32m----> 9\u001b[0m     ThisNodeType \u001b[39m=\u001b[39m assembly\u001b[39m.\u001b[39;49mNodeType\u001b[39m.\u001b[39mSupport\n\u001b[1;32m     10\u001b[0m     ThisForceType \u001b[39m=\u001b[39m assembly\u001b[39m.\u001b[39mForceType\u001b[39m.\u001b[39mReaction\n\u001b[1;32m     11\u001b[0m \u001b[39m    \u001b[39m\u001b[39m\"\"\" Color = \"0, 113, 189\" #blue, for applied loads \"\"\"\u001b[39;00m\n",
      "\u001b[0;31mAttributeError\u001b[0m: module 'Assembly' has no attribute 'NodeType'"
     ]
    }
   ],
   "source": [
    "\"\"\" Pass = 0\n",
    "Reaction = 1\n",
    "Applied = 2\n",
    "Temporary = 3\n",
    "Member = 4 \"\"\"\n",
    "\n",
    "\n",
    "\n",
    "#Loads\n",
    "\n",
    "l1_tail = (15.0,22.0,0.0)\n",
    "l1_head = (15.0,17.0,0.0)\n",
    "l1_type = 2 \n",
    "ld_node1 = ConstructNode(l1_tail,l1_head, l1_type)\n",
    "\n",
    "print (ld_node1.Coordinate)\n",
    "\n",
    "l2_tail = (30.0,22.0,0.0)\n",
    "l2_head = (30.0,17.0,0.0)\n",
    "l2_type = 2 \n",
    "ld_node2 = ConstructNode(l2_tail,l2_head, l2_type)\n",
    "\n",
    "# Supports\n",
    "\n",
    "s1_tail = (-7.0,-3.0,0.0)\n",
    "s1_head = (0.0,2.0,0.0)\n",
    "s1_type = 1 \n",
    "st_node1 = ConstructNode(s1_tail,s1_head, s1_type)\n",
    "\n",
    "s2_tail = (52.0,-3.0,0.0)\n",
    "s2_head = (45.0,2.0,0.0)\n",
    "s2_type = 1\n",
    "st_node2 = ConstructNode(s2_tail,s2_head, s2_type)\n",
    "\n",
    "loads = [ld_node1,ld_node2]\n",
    "supports = [st_node1,st_node2]\n",
    "\n",
    "# Boundary \n",
    "\n",
    "points = [Point(0, 2, 0), Point(45, 2, 0), Point(45, 17, 0), Point(0, 17, 0), Point(0, 2, 0)]\n",
    "boundary = Polyline(points)\n",
    "\n",
    "\n",
    "\n",
    "################################################################################\n",
    "#  COMPILE NODES\n",
    "\n",
    "node_list = []\n",
    "node_list.extend(loads)\n",
    "node_list.extend(supports)\n",
    "\n",
    "################################################################################\n",
    "#  CREATE ASSEMBLY INSTANCE\n",
    "\n",
    "StartShape = assembly.Assembly(node_list, [], boundary)\n",
    "\n",
    "for node in StartShape.Nodes:\n",
    "    \"\"\" print (type(node)) \"\"\"\n",
    "    print (node.Type)\n",
    "\n",
    "print (type(StartShape.Nodes))\n",
    "\n",
    "\"\"\" ################################################################################\n",
    "\n",
    "g = gr.Grammar()\n",
    "b = gr.RandomComputation(g)\n",
    "a = b.GenerateRandomAssembly(StartShape)\n",
    "\n",
    "NUM = 4\n",
    "bestNum = 5\n",
    "bestDesigns = []  \"\"\"\n",
    "\n",
    "\n",
    "\"\"\" rint (StartShape.MyState)\n",
    "print (len(StartShape.Nodes)) \"\"\"\n",
    "\n",
    "\"\"\" a = Generate(StartShape) \n",
    "\n",
    " view = App()\n",
    "for l in loads:\n",
    "    view.add(l.Coordinate)\n",
    "\n",
    "view.show()\"\"\""
   ]
  }
 ],
 "metadata": {
  "kernelspec": {
   "display_name": "thesis-compasdev",
   "language": "python",
   "name": "python3"
  },
  "language_info": {
   "codemirror_mode": {
    "name": "ipython",
    "version": 3
   },
   "file_extension": ".py",
   "mimetype": "text/x-python",
   "name": "python",
   "nbconvert_exporter": "python",
   "pygments_lexer": "ipython3",
   "version": "3.8.18"
  },
  "orig_nbformat": 4
 },
 "nbformat": 4,
 "nbformat_minor": 2
}
