{
 "cells": [
  {
   "cell_type": "code",
   "execution_count": null,
   "metadata": {},
   "outputs": [],
   "source": [
    "import random\n",
    "\n",
    "class RandomUtility:\n",
    "    def __init__(self, s):\n",
    "        random.seed(s)\n",
    "        \n",
    "    def Btwn(self, lb, ub):\n",
    "        return random.randint(lb, ub)\n",
    "        \n",
    "    def Float(self, lb, ub):\n",
    "        return random.uniform(lb, ub)\n",
    "\n",
    "MyRandom = RandomUtility(1)"
   ]
  }
 ],
 "metadata": {
  "kernelspec": {
   "display_name": "thesis-compasdev",
   "language": "python",
   "name": "python3"
  },
  "language_info": {
   "codemirror_mode": {
    "name": "ipython",
    "version": 3
   },
   "file_extension": ".py",
   "mimetype": "text/x-python",
   "name": "python",
   "nbconvert_exporter": "python",
   "pygments_lexer": "ipython3",
   "version": "3.8.18"
  },
  "orig_nbformat": 4
 },
 "nbformat": 4,
 "nbformat_minor": 2
}
