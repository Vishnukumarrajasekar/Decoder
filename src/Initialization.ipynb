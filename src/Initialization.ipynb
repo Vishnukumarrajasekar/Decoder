{
 "cells": [
  {
   "cell_type": "code",
   "execution_count": 1,
   "metadata": {},
   "outputs": [
    {
     "data": {
      "text/plain": [
       "' %run /Users/vishnu/Desktop/thesis_compas/GDGS_Compas_Imports/CustomFunctions.ipynb '"
      ]
     },
     "execution_count": 1,
     "metadata": {},
     "output_type": "execute_result"
    }
   ],
   "source": [
    "import importnb\n",
    "with importnb.imports(\"ipynb\"):\n",
    "    import Assembly as assembly\n",
    "    import GraphicStatics as gs\n",
    "    import Grammar as gr\n",
    "\n",
    "\"\"\" # Run Imports\n",
    "%run /Users/vishnu/Desktop/thesis_compas/GDGS_Compas_Imports/CompasImports.ipynb \"\"\"\n",
    "\n",
    "# Run CustomFunctions\n",
    "\"\"\" %run /Users/vishnu/Desktop/thesis_compas/GDGS_Compas_Imports/CustomFunctions.ipynb \"\"\""
   ]
  },
  {
   "attachments": {},
   "cell_type": "markdown",
   "metadata": {},
   "source": [
    "# Defs"
   ]
  },
  {
   "cell_type": "code",
   "execution_count": 2,
   "metadata": {},
   "outputs": [],
   "source": [
    "\n",
    "def ConstructNode(tail, head, type):\n",
    "    AppliedForce = Line(tail, head)\n",
    "    if type == 1: #Support Point\n",
    "        ThisNodeType = assembly.NodeType.Support\n",
    "        ThisForceType = assembly.ForceType.Reaction\n",
    "        \"\"\" Color = \"252, 223,33\" #yellow, for support reactions \"\"\"\n",
    "\n",
    "    if type == 2: #Load Point\n",
    "        ThisNodeType = assembly.NodeType.Support\n",
    "        ThisForceType = assembly.ForceType.Reaction\n",
    "        \"\"\" Color = \"0, 113, 189\" #blue, for applied loads \"\"\"\n",
    "\n",
    "    ForceList=[]\n",
    "    force = assembly.Force(AppliedForce, ThisForceType, -1)\n",
    "    ForceList.append(force)\n",
    "\n",
    "    node = assembly.Node(head, ThisNodeType, ForceList)\n",
    "\n",
    "    node = gs.RearrangeForces(node)\n",
    "    node = gs.EquilibrateNode(node)\n",
    "    return node, AppliedForce\n",
    "\n"
   ]
  },
  {
   "attachments": {},
   "cell_type": "markdown",
   "metadata": {},
   "source": [
    "# Initials"
   ]
  },
  {
   "cell_type": "code",
   "execution_count": 3,
   "metadata": {},
   "outputs": [
    {
     "name": "stdout",
     "output_type": "stream",
     "text": [
      "1\n",
      "<class 'tuple'>\n"
     ]
    },
    {
     "ename": "AttributeError",
     "evalue": "'tuple' object has no attribute 'NodeState'",
     "output_type": "error",
     "traceback": [
      "\u001b[0;31m---------------------------------------------------------------------------\u001b[0m",
      "\u001b[0;31mAttributeError\u001b[0m                            Traceback (most recent call last)",
      "Cell \u001b[0;32mIn[3], line 62\u001b[0m\n\u001b[1;32m     60\u001b[0m g \u001b[39m=\u001b[39m gr\u001b[39m.\u001b[39mGrammar()\n\u001b[1;32m     61\u001b[0m b \u001b[39m=\u001b[39m gr\u001b[39m.\u001b[39mRandomComputation(g)\n\u001b[0;32m---> 62\u001b[0m a \u001b[39m=\u001b[39m b\u001b[39m.\u001b[39;49mGenerateRandomAssembly(StartShape)\n\u001b[1;32m     64\u001b[0m NUM \u001b[39m=\u001b[39m \u001b[39m4\u001b[39m\n\u001b[1;32m     65\u001b[0m bestNum \u001b[39m=\u001b[39m \u001b[39m5\u001b[39m\n",
      "File \u001b[0;32m~/Desktop/thesis_compas/GDGS_Compas_Imports/Grammar.ipynb:98\u001b[0m, in \u001b[0;36mRandomComputation.GenerateRandomAssembly\u001b[0;34m(self, currentshape)\u001b[0m\n\u001b[1;32m     96\u001b[0m \u001b[39mdef\u001b[39;00m \u001b[39mGenerateRandomAssembly\u001b[39m(\u001b[39mself\u001b[39m, currentshape):\n\u001b[1;32m     97\u001b[0m     \u001b[39mwhile\u001b[39;00m currentshape\u001b[39m.\u001b[39mMyState \u001b[39m!=\u001b[39m rules\u001b[39m.\u001b[39mState\u001b[39m.\u001b[39mEnd: \u001b[39m#if not end state, proceed to ApplyRandomRule\u001b[39;00m\n\u001b[0;32m---> 98\u001b[0m         currentshape \u001b[39m=\u001b[39m \u001b[39mself\u001b[39;49m\u001b[39m.\u001b[39;49mApplyRandomRule(currentshape)\n\u001b[1;32m    100\u001b[0m     \u001b[39m#currentshape.Score = currentshape.GetScore()\u001b[39;00m\n\u001b[1;32m    101\u001b[0m     \u001b[39m#currentshape.Length = currentshape.GetLength()\u001b[39;00m\n\u001b[1;32m    102\u001b[0m     \u001b[39mreturn\u001b[39;00m currentshape\n",
      "File \u001b[0;32m~/Desktop/thesis_compas/GDGS_Compas_Imports/Grammar.ipynb:105\u001b[0m, in \u001b[0;36mRandomComputation.ApplyRandomRule\u001b[0;34m(self, currentshape)\u001b[0m\n\u001b[1;32m    104\u001b[0m \u001b[39mdef\u001b[39;00m \u001b[39mApplyRandomRule\u001b[39m(\u001b[39mself\u001b[39m, currentshape): \n\u001b[0;32m--> 105\u001b[0m     node \u001b[39m=\u001b[39m currentshape\u001b[39m.\u001b[39;49mRandomNodePicker() \u001b[39m# PICK RANDOM NODE\u001b[39;00m\n\u001b[1;32m    107\u001b[0m     \u001b[39mif\u001b[39;00m \u001b[39mlen\u001b[39m(currentshape\u001b[39m.\u001b[39mHistory\u001b[39m.\u001b[39mRules) \u001b[39m>\u001b[39m \u001b[39m20\u001b[39m:\n\u001b[1;32m    108\u001b[0m         \u001b[39mpass\u001b[39;00m\n",
      "File \u001b[0;32m~/Desktop/thesis_compas/GDGS_Compas_Imports/Assembly.ipynb:95\u001b[0m, in \u001b[0;36mAssembly.RandomNodePicker\u001b[0;34m(self)\u001b[0m\n\u001b[1;32m     93\u001b[0m gonodes \u001b[39m=\u001b[39m []\n\u001b[1;32m     94\u001b[0m \u001b[39mfor\u001b[39;00m i \u001b[39min\u001b[39;00m \u001b[39mrange\u001b[39m (\u001b[39m0\u001b[39m,\u001b[39mlen\u001b[39m(\u001b[39mself\u001b[39m\u001b[39m.\u001b[39mNodes)):\n\u001b[0;32m---> 95\u001b[0m     \u001b[39mif\u001b[39;00m \u001b[39mself\u001b[39;49m\u001b[39m.\u001b[39;49mNodes[i]\u001b[39m.\u001b[39;49mNodeState \u001b[39m==\u001b[39m \u001b[39m1\u001b[39m:\n\u001b[1;32m     96\u001b[0m         gonodes\u001b[39m.\u001b[39mappend(\u001b[39mself\u001b[39m\u001b[39m.\u001b[39mNodes[i])\n\u001b[1;32m     97\u001b[0m     \u001b[39melse\u001b[39;00m:\n",
      "\u001b[0;31mAttributeError\u001b[0m: 'tuple' object has no attribute 'NodeState'"
     ]
    }
   ],
   "source": [
    "\"\"\" Pass = 0\n",
    "Reaction = 1\n",
    "Applied = 2\n",
    "Temporary = 3\n",
    "Member = 4 \"\"\"\n",
    "\n",
    "\n",
    "\n",
    "#Loads\n",
    "\n",
    "l1_tail = (15.0,22.0,0.0)\n",
    "l1_head = (15.0,17.0,0.0)\n",
    "l1_type = 2 \n",
    "ld_node1 = ConstructNode(l1_tail,l1_head, l1_type)\n",
    "\n",
    "l2_tail = (30.0,22.0,0.0)\n",
    "l2_head = (30.0,17.0,0.0)\n",
    "l2_type = 2 \n",
    "ld_node2 = ConstructNode(l2_tail,l2_head, l2_type)\n",
    "\n",
    "# Supports\n",
    "\n",
    "s1_tail = (-7.0,-3.0,0.0)\n",
    "s1_head = (0.0,2.0,0.0)\n",
    "s1_type = 1 \n",
    "st_node1 = ConstructNode(s1_tail,s1_head, s1_type)\n",
    "\n",
    "s2_tail = (52.0,-3.0,0.0)\n",
    "s2_head = (45.0,2.0,0.0)\n",
    "s2_type = 1\n",
    "st_node2 = ConstructNode(s2_tail,s2_head, s2_type)\n",
    "\n",
    "loads = [ld_node1,ld_node2]\n",
    "supports = [st_node1,st_node2]\n",
    "\n",
    "# Boundary \n",
    "\n",
    "points = [Point(0, 2, 0), Point(45, 2, 0), Point(45, 17, 0), Point(0, 17, 0), Point(0, 2, 0)]\n",
    "boundary = Polyline(points)\n",
    "\n",
    "\n",
    "\n",
    "################################################################################\n",
    "#  COMPILE NODES\n",
    "\n",
    "node_list = []\n",
    "node_list.extend(loads)\n",
    "node_list.extend(supports)\n",
    "\n",
    "################################################################################\n",
    "#  CREATE ASSEMBLY INSTANCE\n",
    "\n",
    "StartShape = assembly.Assembly(node_list, [], boundary)\n",
    "\n",
    "print (StartShape.MyState)\n",
    "print (type(StartShape.Nodes[0]))\n",
    "\n",
    "################################################################################\n",
    "\n",
    "g = gr.Grammar()\n",
    "b = gr.RandomComputation(g)\n",
    "a = b.GenerateRandomAssembly(StartShape)\n",
    "\n",
    "NUM = 4\n",
    "bestNum = 5\n",
    "bestDesigns = [] \n",
    "\n",
    "\n",
    "\"\"\" rint (StartShape.MyState)\n",
    "print (len(StartShape.Nodes)) \"\"\"\n",
    "\n",
    "\"\"\" a = Generate(StartShape) \n",
    "\n",
    " view = App()\n",
    "for l in loads:\n",
    "    view.add(l.Coordinate)\n",
    "\n",
    "view.show()\"\"\""
   ]
  }
 ],
 "metadata": {
  "kernelspec": {
   "display_name": "thesis-compasdev",
   "language": "python",
   "name": "python3"
  },
  "language_info": {
   "codemirror_mode": {
    "name": "ipython",
    "version": 3
   },
   "file_extension": ".py",
   "mimetype": "text/x-python",
   "name": "python",
   "nbconvert_exporter": "python",
   "pygments_lexer": "ipython3",
   "version": "3.8.18"
  },
  "orig_nbformat": 4
 },
 "nbformat": 4,
 "nbformat_minor": 2
}
