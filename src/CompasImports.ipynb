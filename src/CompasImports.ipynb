{
 "cells": [
  {
   "cell_type": "code",
   "execution_count": 1,
   "metadata": {},
   "outputs": [],
   "source": [
    "from compas.geometry import Point, Vector, Line, Circle, Polyline, Polygon, Pointcloud, Plane, Frame, Translation, Scale, Rotation, intersection_line_line\n",
    "from compas_plotters import Plotter\n",
    "from compas_occ.geometry import OCCNurbsCurve\n",
    "\n",
    "from compas_plotters import Plotter\n",
    "\n",
    "import compas.geometry as cg\n",
    "\n",
    "from compas_view2.app import App\n",
    "\n",
    "from math import radians\n",
    "\n",
    "import math"
   ]
  }
 ],
 "metadata": {
  "kernelspec": {
   "display_name": "thesis-compasdev",
   "language": "python",
   "name": "python3"
  },
  "language_info": {
   "codemirror_mode": {
    "name": "ipython",
    "version": 3
   },
   "file_extension": ".py",
   "mimetype": "text/x-python",
   "name": "python",
   "nbconvert_exporter": "python",
   "pygments_lexer": "ipython3",
   "version": "3.8.18"
  },
  "orig_nbformat": 4
 },
 "nbformat": 4,
 "nbformat_minor": 2
}
